{
 "cells": [
  {
   "cell_type": "code",
   "execution_count": 1,
   "metadata": {},
   "outputs": [
    {
     "name": "stdout",
     "output_type": "stream",
     "text": [
      "\n",
      "Complete.\n"
     ]
    },
    {
     "name": "stderr",
     "output_type": "stream",
     "text": [
      "[nltk_data] Downloading package wordnet to\n",
      "[nltk_data]     C:\\Users\\alfew\\AppData\\Roaming\\nltk_data...\n",
      "[nltk_data]   Package wordnet is already up-to-date!\n"
     ]
    }
   ],
   "source": [
    "import csv\n",
    "import time\n",
    "import string\n",
    "import numpy as np\n",
    "import pandas as pd\n",
    "from Learning import *"
   ]
  },
  {
   "cell_type": "code",
   "execution_count": 2,
   "metadata": {},
   "outputs": [],
   "source": [
    "dataset = Wordset()"
   ]
  },
  {
   "cell_type": "code",
   "execution_count": 3,
   "metadata": {},
   "outputs": [],
   "source": [
    "df = dataset.load()"
   ]
  },
  {
   "cell_type": "code",
   "execution_count": 4,
   "metadata": {
    "scrolled": true
   },
   "outputs": [
    {
     "name": "stdout",
     "output_type": "stream",
     "text": [
      "0.5084745762711864\n"
     ]
    }
   ],
   "source": [
    "d = df[[\"vis\"]].copy()\n",
    "d = d > 5.7\n",
    "print(sum(d[\"vis\"]) / len(d[\"vis\"]))\n",
    "d.to_csv(\"data/v.csv\", quoting=csv.QUOTE_NONE)"
   ]
  },
  {
   "cell_type": "code",
   "execution_count": 5,
   "metadata": {},
   "outputs": [],
   "source": [
    "d.index = np.array(list(map(lambda x: \"Draw the word \\\"\" + x + \"\\\"\", d.index.values)))\n",
    "d.index.name = \"word\"\n",
    "d.to_csv(\"data/v_DrawTheWord.csv\", quoting=csv.QUOTE_NONE)"
   ]
  },
  {
   "cell_type": "code",
   "execution_count": null,
   "metadata": {},
   "outputs": [],
   "source": [
    "3"
   ]
  },
  {
   "cell_type": "code",
   "execution_count": 6,
   "metadata": {},
   "outputs": [
    {
     "name": "stdout",
     "output_type": "stream",
     "text": [
      "0.5423728813559322\n"
     ]
    }
   ],
   "source": [
    "d = df[[\"dif\"]].copy()\n",
    "d = d > 2.9\n",
    "print(sum(d[\"dif\"]) / len(d[\"dif\"]))\n",
    "d.to_csv(\"data/v.csv\", quoting=csv.QUOTE_NONE)"
   ]
  },
  {
   "cell_type": "code",
   "execution_count": 7,
   "metadata": {},
   "outputs": [],
   "source": [
    "d.index = np.array(list(map(lambda x: \"The word is \\\"\" + x + \"\\\"\", d.index.values)))\n",
    "d.index.name = \"word\"\n",
    "d.to_csv(\"data/d_TheWordIs.csv\", quoting=csv.QUOTE_NONE)"
   ]
  },
  {
   "cell_type": "code",
   "execution_count": 8,
   "metadata": {},
   "outputs": [],
   "source": [
    "d.index = np.array(list(map(lambda x: \"Draw the word \\\"\" + x + \"\\\"\", d.index.values)))\n",
    "d.index.name = \"word\"\n",
    "d.to_csv(\"data/d_DrawTheWord.csv\", quoting=csv.QUOTE_NONE)"
   ]
  },
  {
   "cell_type": "code",
   "execution_count": null,
   "metadata": {},
   "outputs": [],
   "source": []
  },
  {
   "cell_type": "code",
   "execution_count": 21,
   "metadata": {},
   "outputs": [
    {
     "name": "stdout",
     "output_type": "stream",
     "text": [
      "0.5254237288135594\n"
     ]
    }
   ],
   "source": [
    "d = df[[\"com\"]].copy()\n",
    "d = d > 2.8\n",
    "print(sum(d[\"com\"]) / len(d[\"com\"]))\n",
    "d.to_csv(\"data/c.csv\", quoting=csv.QUOTE_NONE)"
   ]
  },
  {
   "cell_type": "code",
   "execution_count": 22,
   "metadata": {},
   "outputs": [],
   "source": [
    "d.index = np.array(list(map(lambda x: \"The word is \\\"\" + x + \"\\\"\", d.index.values)))\n",
    "d.index.name = \"word\"\n",
    "d.to_csv(\"data/c_TheWordIs.csv\", quoting=csv.QUOTE_NONE)"
   ]
  },
  {
   "cell_type": "code",
   "execution_count": null,
   "metadata": {},
   "outputs": [],
   "source": []
  }
 ],
 "metadata": {
  "kernelspec": {
   "display_name": "Python 3 (ipykernel)",
   "language": "python",
   "name": "python3"
  },
  "language_info": {
   "codemirror_mode": {
    "name": "ipython",
    "version": 3
   },
   "file_extension": ".py",
   "mimetype": "text/x-python",
   "name": "python",
   "nbconvert_exporter": "python",
   "pygments_lexer": "ipython3",
   "version": "3.8.0"
  }
 },
 "nbformat": 4,
 "nbformat_minor": 2
}
